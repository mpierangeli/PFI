{
 "cells": [
  {
   "cell_type": "markdown",
   "metadata": {},
   "source": [
    "### MAIN NOTEBOOK DE ARMADO DE DATASET PARA SEGMENTACIÓN ÍNTEGRA -> CÁLCULO DE VOLUMEN (después de probar todo lo posible)"
   ]
  },
  {
   "cell_type": "code",
   "execution_count": 1,
   "metadata": {},
   "outputs": [],
   "source": [
    "import os\n",
    "import nibabel as nib\n",
    "import numpy as np\n",
    "import cv2\n",
    "import torchio as tio\n",
    "import matplotlib.pyplot as plt\n",
    "import SimpleITK as sitk\n",
    "from PIL import Image\n",
    "import elasticdeform\n",
    "from sklearn.model_selection import train_test_split\n",
    "import shutil"
   ]
  },
  {
   "cell_type": "markdown",
   "metadata": {},
   "source": [
    "### INFO GENERAL DEL DATASET\n",
    "\n",
    "Hay 6 datasets rejuntados -> total de 116 pacientes -> todas secuencias T2 con sus máscaras anexas en formato .nii <br>\n",
    "Todo los dataset tienen secuencias mixtas en tamaño de pixel y cantidad de slices. <br>\n",
    "Además, algunas tienen endorectal coil. <br>\n",
    "Mucha varianza en el brillo, incluso dentro del mismo dataset.\n",
    "\n",
    "#### PREPROCESADO\n",
    "\n",
    "A priori, se renombraron todos las secuencias y sus máscaras en un formato conveniente. <br>\n",
    "1 - Se realizó un flip de 90° ya que las imágenes viniero rotadas. Además se binarizaron las máscaras ya que algunos datasets tenian multiclase. <br>\n",
    "2 - Se aplicó Bias Correction (N4ITK) a todas las secuencias (por separado). <br>\n",
    "3 - Se separaron los 116 pacientes en 10% test (12), del 90% restante (104), 75% train (77), 25% validation (27).\n",
    "- Se separó a nivel paciente siguiendo los criterios del \"Checklist for Artificial Intelligence in Medical Imaging\" (CLAIM). <br>\n",
    "\n",
    "\n",
    "\n",
    "\n",
    "\n",
    "\n"
   ]
  },
  {
   "cell_type": "markdown",
   "metadata": {},
   "source": [
    "---\n",
    "RENAME"
   ]
  },
  {
   "cell_type": "code",
   "execution_count": null,
   "metadata": {},
   "outputs": [],
   "source": [
    "fp = r\"C:\\Users\\Pier\\Desktop\\PFI_main\\ds_mezcla_segmentacion integra\\nuevas\"\n",
    "fp2 = r\"C:\\Users\\Pier\\Desktop\\PFI_main\\ds_mezcla_segmentacion integra\\nuevas2\"\n",
    "allfiles = os.listdir(fp)\n",
    "allfilesfinales = os.listdir(fp2)\n",
    "cont = int(len(allfilesfinales)/2)\n",
    "cont2 = int(len(allfilesfinales)/2)\n",
    "for file in sorted(allfiles):\n",
    "    print(file)\n",
    "    if (\"segmentation\" in file ) or (\"Segmentation\" in file): \n",
    "        cont+=1\n",
    "        os.rename(os.path.join(fp,file),os.path.join(fp2,\"segmentacion_\"+str(cont).zfill(3)+\".nii\"))\n",
    "    else:\n",
    "        cont2+=1\n",
    "        os.rename(os.path.join(fp,file),os.path.join(fp2,\"sujeto_\"+str(cont2).zfill(3)+\".nii\"))\n"
   ]
  },
  {
   "cell_type": "markdown",
   "metadata": {},
   "source": [
    "---\n",
    "FLIP Y BINARIZADO "
   ]
  },
  {
   "cell_type": "code",
   "execution_count": null,
   "metadata": {},
   "outputs": [],
   "source": [
    "fp = r\"C:\\Users\\Pier\\Desktop\\PFI_main\\ds_mezcla_segmentacion integra\\nuevas2\"\n",
    "fp2 = r\"C:\\Users\\Pier\\Desktop\\PFI_main\\ds_mezcla_segmentacion integra\\nuevas\"\n",
    "allfiles = os.listdir(fp)\n",
    "for file in sorted(allfiles):\n",
    "    print(file)\n",
    "    x = nib.load(os.path.join(fp,file))\n",
    "    img = x.get_fdata()\n",
    "    img = np.rot90(img,3)\n",
    "    if \"segmentacion\" in file: img = np.any(img)\n",
    "    nifti = nib.Nifti1Image(img, header = x.header, affine= x.affine)\n",
    "    nib.save(nifti, os.path.join(fp2, file))  "
   ]
  },
  {
   "cell_type": "markdown",
   "metadata": {},
   "source": [
    "---\n",
    "BIAS CORRECTION"
   ]
  },
  {
   "cell_type": "code",
   "execution_count": null,
   "metadata": {},
   "outputs": [],
   "source": [
    "fp = r\"C:\\Users\\Pier\\Desktop\\PFI_main\\ds_mezcla_segmentacion integra\\aa\"\n",
    "fp2 = r\"C:\\Users\\Pier\\Desktop\\PFI_main\\ds_mezcla_segmentacion integra\\flipped\"\n",
    "allfiles = os.listdir(fp)\n",
    "for file in sorted(allfiles):\n",
    "    if \"sujeto\" in file:\n",
    "        x = nib.load(os.path.join(fp,file))\n",
    "        img = x.get_fdata()\n",
    "        inputImage = sitk.ReadImage(os.path.join(fp,file))\n",
    "        maskImage = sitk.OtsuThreshold(inputImage,0,1,200)\n",
    "        inputImage = sitk.Cast(inputImage,sitk.sitkFloat32)\n",
    "        corrector = sitk.N4BiasFieldCorrectionImageFilter()\n",
    "        output = corrector.Execute(inputImage,maskImage)\n",
    "        newimg = np.transpose(sitk.GetArrayViewFromImage(output))\n",
    "        nifti = nib.Nifti1Image(newimg, header = x.header, affine= x.affine)\n",
    "        nib.save(nifti, os.path.join(fp2, file))  \n",
    "    else:\n",
    "        shutil.copy2(os.path.join(fp,file), os.path.join(fp2,file))"
   ]
  },
  {
   "cell_type": "markdown",
   "metadata": {},
   "source": [
    "---\n",
    "SPLIT TRAIN-VALIDATION-TEST"
   ]
  },
  {
   "cell_type": "code",
   "execution_count": 3,
   "metadata": {},
   "outputs": [],
   "source": [
    "fp1 = r\"C:\\Users\\Pier\\Desktop\\PFI_main\\ds_mezcla_segmentacion integra\\bias_corrected_sec\\sujetos\"\n",
    "fp2 = r\"C:\\Users\\Pier\\Desktop\\PFI_main\\ds_mezcla_segmentacion integra\\bias_corrected_sec\\mascaras\"\n",
    "sujetos = os.listdir(fp1)\n",
    "segmentaciones = os.listdir(fp2)\n",
    "suj_train,suj_test,seg_train,seg_test = train_test_split(sujetos,segmentaciones,train_size=0.9,random_state=23) #random_state = 23"
   ]
  },
  {
   "cell_type": "code",
   "execution_count": 8,
   "metadata": {},
   "outputs": [],
   "source": [
    "\n",
    "fp1 = r\"C:\\Users\\Pier\\Desktop\\PFI_main\\ds_mezcla_segmentacion integra\\bias_corrected_sec\\sujetos\"\n",
    "fp0 = r\"C:\\Users\\Pier\\Desktop\\PFI_main\\ds_mezcla_segmentacion integra\\bias_corrected_sec\\mascaras\"\n",
    "fp2 = r\"C:\\Users\\Pier\\Desktop\\PFI_main\\DS_VOLUMEN\\main\\train_data\\sujetos\"\n",
    "fp3 = r\"C:\\Users\\Pier\\Desktop\\PFI_main\\DS_VOLUMEN\\main\\test_data\\sujetos\"\n",
    "fp4 = r\"C:\\Users\\Pier\\Desktop\\PFI_main\\DS_VOLUMEN\\main\\train_data\\mascaras\"\n",
    "fp5 = r\"C:\\Users\\Pier\\Desktop\\PFI_main\\DS_VOLUMEN\\main\\test_data\\mascaras\"\n",
    "\n",
    "for file in suj_train:\n",
    "    shutil.copy2(os.path.join(fp1,file), os.path.join(fp2,file))\n",
    "for file in suj_test:\n",
    "    shutil.copy2(os.path.join(fp1,file), os.path.join(fp3,file))\n",
    "for file in seg_train:\n",
    "    shutil.copy2(os.path.join(fp0,file), os.path.join(fp4,file))\n",
    "for file in seg_test:\n",
    "    shutil.copy2(os.path.join(fp0,file), os.path.join(fp5,file))"
   ]
  },
  {
   "cell_type": "code",
   "execution_count": 9,
   "metadata": {},
   "outputs": [],
   "source": [
    "fp1 = r\"C:\\Users\\Pier\\Desktop\\PFI_main\\DS_VOLUMEN\\main\\train_data\\sujetos\"\n",
    "fp2 = r\"C:\\Users\\Pier\\Desktop\\PFI_main\\DS_VOLUMEN\\main\\train_data\\mascaras\"\n",
    "sujetos = os.listdir(fp1)\n",
    "segmentaciones = os.listdir(fp2)\n",
    "suj_train,suj_val,seg_train,seg_val = train_test_split(sujetos,segmentaciones,train_size=0.75,random_state=23) #random_state = 23"
   ]
  },
  {
   "cell_type": "code",
   "execution_count": 10,
   "metadata": {},
   "outputs": [],
   "source": [
    "fp1 = r\"C:\\Users\\Pier\\Desktop\\PFI_main\\DS_VOLUMEN\\main\\train_data\\sujetos\"\n",
    "fp0 = r\"C:\\Users\\Pier\\Desktop\\PFI_main\\DS_VOLUMEN\\main\\train_data\\mascaras\"\n",
    "fp3 = r\"C:\\Users\\Pier\\Desktop\\PFI_main\\DS_VOLUMEN\\main\\validation_data\\sujetos\"\n",
    "fp5 = r\"C:\\Users\\Pier\\Desktop\\PFI_main\\DS_VOLUMEN\\main\\validation_data\\mascaras\"\n",
    "\n",
    "for file in suj_val:\n",
    "    shutil.move(os.path.join(fp1,file), os.path.join(fp3,file))\n",
    "for file in seg_val:\n",
    "    shutil.move(os.path.join(fp0,file), os.path.join(fp5,file))"
   ]
  },
  {
   "cell_type": "code",
   "execution_count": null,
   "metadata": {},
   "outputs": [],
   "source": [
    "fp = r\"C:\\Users\\Pier\\Desktop\\PFI_main\\ds_mezcla_segmentacion integra\\bias_corrected_sec\\mascaras\"\n",
    "allfiles = os.listdir(fp)\n",
    "allz = 0\n",
    "allnz = 0\n",
    "\n",
    "for file in allfiles:\n",
    "    if \"segmentacion\" in file:\n",
    "        x = nib.load(os.path.join(fp,file))\n",
    "        x = x.get_fdata()\n",
    "        for slice in range(np.size(x,2)):\n",
    "            if not np.any(x[:,:,slice]): allz+=1\n",
    "            else: allnz+=1\n",
    "\n",
    "print(allz,allnz) #2020 1867 -> 48% de máscaras tienen próstata"
   ]
  },
  {
   "cell_type": "code",
   "execution_count": 13,
   "metadata": {},
   "outputs": [
    {
     "name": "stdout",
     "output_type": "stream",
     "text": [
      "1416 1249 53.13320825515947\n",
      "416 410 50.363196125908\n",
      "188 208 47.474747474747474\n"
     ]
    }
   ],
   "source": [
    "fp0 = [r\"C:\\Users\\Pier\\Desktop\\PFI_main\\DS_VOLUMEN\\main\\train_data\\mascaras\",\n",
    "       r\"C:\\Users\\Pier\\Desktop\\PFI_main\\DS_VOLUMEN\\main\\validation_data\\mascaras\",\n",
    "       r\"C:\\Users\\Pier\\Desktop\\PFI_main\\DS_VOLUMEN\\main\\test_data\\mascaras\"]\n",
    "for fp in fp0:\n",
    "    allfiles = os.listdir(fp)\n",
    "    allz = 0\n",
    "    allnz = 0\n",
    "    for file in allfiles:\n",
    "        if \"segmentacion\" in file:\n",
    "            x = nib.load(os.path.join(fp,file))\n",
    "            x = x.get_fdata()\n",
    "            for slice in range(np.size(x,2)):\n",
    "                if not np.any(x[:,:,slice]): allz+=1\n",
    "                else: allnz+=1\n",
    "    print(allz,allnz,allz/(allz+allnz)*100) #cantidad de mascaras SIN prostata / CON prostata / SIN en % -> aprox 50+/-3% (dataset balanceado)"
   ]
  },
  {
   "cell_type": "markdown",
   "metadata": {},
   "source": [
    "---\n",
    "SEPARACION DE SLICES EN .PNG"
   ]
  },
  {
   "cell_type": "markdown",
   "metadata": {},
   "source": [
    "Para normalizar el dataset"
   ]
  },
  {
   "cell_type": "code",
   "execution_count": 2,
   "metadata": {},
   "outputs": [],
   "source": [
    "def checknottest(filename:str):\n",
    "    in_test = [\"006\",\"010\",\"021\",\"025\",\"030\",\"048\",\"056\",\"072\",\"088\",\"094\",\"098\",\"102\"] #sujetos en test (que no quiero usar para calcular datos)\n",
    "    for n in in_test:\n",
    "        if n in file: return False\n",
    "    return True\n",
    "\n",
    "fp = r\"C:\\Users\\Pier\\Desktop\\PFI_main\\ds_mezcla_segmentacion integra\\bias_corrected_sec\\sujetos\"\n",
    "allfiles = os.listdir(fp)\n",
    "#means = []\n",
    "#maxs = []\n",
    "#mins = []\n",
    "todas = []\n",
    "for file in allfiles:\n",
    "    if ((\"sujeto\" in file) and (checknottest(file))):\n",
    "        x = nib.load(os.path.join(fp,file))\n",
    "        x = x.get_fdata()\n",
    "        for slice in range(np.size(x,2)):\n",
    "            #maxs.append(np.max(x[63:319,63:319,slice]))\n",
    "            #means.append(np.mean(x[63:319,63:319,slice]))\n",
    "            #mins.append(np.min(x[63:319,63:319,slice]))\n",
    "            todas.append(x[63:319,63:319,slice])\n",
    "\n",
    "#media = np.mean(means)\n",
    "#maxx = np.max(maxs)\n",
    "#minn = np.min(mins)\n",
    "#print(media,maxx,minn)"
   ]
  },
  {
   "cell_type": "code",
   "execution_count": 3,
   "metadata": {},
   "outputs": [],
   "source": [
    "tt = np.ravel(todas)"
   ]
  },
  {
   "cell_type": "code",
   "execution_count": 11,
   "metadata": {},
   "outputs": [
    {
     "ename": "AttributeError",
     "evalue": "'list' object has no attribute 'shape'",
     "output_type": "error",
     "traceback": [
      "\u001b[1;31m---------------------------------------------------------------------------\u001b[0m",
      "\u001b[1;31mAttributeError\u001b[0m                            Traceback (most recent call last)",
      "Cell \u001b[1;32mIn [11], line 1\u001b[0m\n\u001b[1;32m----> 1\u001b[0m tt\u001b[39m.\u001b[39;49mshape()\n",
      "\u001b[1;31mAttributeError\u001b[0m: 'list' object has no attribute 'shape'"
     ]
    }
   ],
   "source": [
    "tt.shape()"
   ]
  },
  {
   "cell_type": "code",
   "execution_count": 5,
   "metadata": {},
   "outputs": [],
   "source": [
    "p1 = np.percentile(tt,99.95)"
   ]
  },
  {
   "cell_type": "code",
   "execution_count": 6,
   "metadata": {},
   "outputs": [],
   "source": [
    "def c(x):\n",
    "    if x>=p1: return p1\n",
    "    else: return x"
   ]
  },
  {
   "cell_type": "code",
   "execution_count": 9,
   "metadata": {},
   "outputs": [],
   "source": [
    "tt = list(map(c, tt))"
   ]
  },
  {
   "cell_type": "code",
   "execution_count": 25,
   "metadata": {},
   "outputs": [
    {
     "ename": "KeyboardInterrupt",
     "evalue": "",
     "output_type": "error",
     "traceback": [
      "\u001b[1;31m---------------------------------------------------------------------------\u001b[0m",
      "\u001b[1;31mKeyboardInterrupt\u001b[0m                         Traceback (most recent call last)",
      "Cell \u001b[1;32mIn [25], line 1\u001b[0m\n\u001b[1;32m----> 1\u001b[0m plt\u001b[39m.\u001b[39;49mhist(tt,bins\u001b[39m=\u001b[39;49m\u001b[39m10000\u001b[39;49m,log\u001b[39m=\u001b[39;49m\u001b[39mTrue\u001b[39;49;00m)\n\u001b[0;32m      2\u001b[0m plt\u001b[39m.\u001b[39mshow()\n",
      "File \u001b[1;32mc:\\Users\\Pier\\AppData\\Local\\Programs\\Python\\Python38\\lib\\site-packages\\matplotlib\\pyplot.py:2602\u001b[0m, in \u001b[0;36mhist\u001b[1;34m(x, bins, range, density, weights, cumulative, bottom, histtype, align, orientation, rwidth, log, color, label, stacked, data, **kwargs)\u001b[0m\n\u001b[0;32m   2596\u001b[0m \u001b[39m@_copy_docstring_and_deprecators\u001b[39m(Axes\u001b[39m.\u001b[39mhist)\n\u001b[0;32m   2597\u001b[0m \u001b[39mdef\u001b[39;00m \u001b[39mhist\u001b[39m(\n\u001b[0;32m   2598\u001b[0m         x, bins\u001b[39m=\u001b[39m\u001b[39mNone\u001b[39;00m, \u001b[39mrange\u001b[39m\u001b[39m=\u001b[39m\u001b[39mNone\u001b[39;00m, density\u001b[39m=\u001b[39m\u001b[39mFalse\u001b[39;00m, weights\u001b[39m=\u001b[39m\u001b[39mNone\u001b[39;00m,\n\u001b[0;32m   2599\u001b[0m         cumulative\u001b[39m=\u001b[39m\u001b[39mFalse\u001b[39;00m, bottom\u001b[39m=\u001b[39m\u001b[39mNone\u001b[39;00m, histtype\u001b[39m=\u001b[39m\u001b[39m'\u001b[39m\u001b[39mbar\u001b[39m\u001b[39m'\u001b[39m, align\u001b[39m=\u001b[39m\u001b[39m'\u001b[39m\u001b[39mmid\u001b[39m\u001b[39m'\u001b[39m,\n\u001b[0;32m   2600\u001b[0m         orientation\u001b[39m=\u001b[39m\u001b[39m'\u001b[39m\u001b[39mvertical\u001b[39m\u001b[39m'\u001b[39m, rwidth\u001b[39m=\u001b[39m\u001b[39mNone\u001b[39;00m, log\u001b[39m=\u001b[39m\u001b[39mFalse\u001b[39;00m, color\u001b[39m=\u001b[39m\u001b[39mNone\u001b[39;00m,\n\u001b[0;32m   2601\u001b[0m         label\u001b[39m=\u001b[39m\u001b[39mNone\u001b[39;00m, stacked\u001b[39m=\u001b[39m\u001b[39mFalse\u001b[39;00m, \u001b[39m*\u001b[39m, data\u001b[39m=\u001b[39m\u001b[39mNone\u001b[39;00m, \u001b[39m*\u001b[39m\u001b[39m*\u001b[39mkwargs):\n\u001b[1;32m-> 2602\u001b[0m     \u001b[39mreturn\u001b[39;00m gca()\u001b[39m.\u001b[39;49mhist(\n\u001b[0;32m   2603\u001b[0m         x, bins\u001b[39m=\u001b[39;49mbins, \u001b[39mrange\u001b[39;49m\u001b[39m=\u001b[39;49m\u001b[39mrange\u001b[39;49m, density\u001b[39m=\u001b[39;49mdensity, weights\u001b[39m=\u001b[39;49mweights,\n\u001b[0;32m   2604\u001b[0m         cumulative\u001b[39m=\u001b[39;49mcumulative, bottom\u001b[39m=\u001b[39;49mbottom, histtype\u001b[39m=\u001b[39;49mhisttype,\n\u001b[0;32m   2605\u001b[0m         align\u001b[39m=\u001b[39;49malign, orientation\u001b[39m=\u001b[39;49morientation, rwidth\u001b[39m=\u001b[39;49mrwidth, log\u001b[39m=\u001b[39;49mlog,\n\u001b[0;32m   2606\u001b[0m         color\u001b[39m=\u001b[39;49mcolor, label\u001b[39m=\u001b[39;49mlabel, stacked\u001b[39m=\u001b[39;49mstacked,\n\u001b[0;32m   2607\u001b[0m         \u001b[39m*\u001b[39;49m\u001b[39m*\u001b[39;49m({\u001b[39m\"\u001b[39;49m\u001b[39mdata\u001b[39;49m\u001b[39m\"\u001b[39;49m: data} \u001b[39mif\u001b[39;49;00m data \u001b[39mis\u001b[39;49;00m \u001b[39mnot\u001b[39;49;00m \u001b[39mNone\u001b[39;49;00m \u001b[39melse\u001b[39;49;00m {}), \u001b[39m*\u001b[39;49m\u001b[39m*\u001b[39;49mkwargs)\n",
      "File \u001b[1;32mc:\\Users\\Pier\\AppData\\Local\\Programs\\Python\\Python38\\lib\\site-packages\\matplotlib\\__init__.py:1412\u001b[0m, in \u001b[0;36m_preprocess_data.<locals>.inner\u001b[1;34m(ax, data, *args, **kwargs)\u001b[0m\n\u001b[0;32m   1409\u001b[0m \u001b[39m@functools\u001b[39m\u001b[39m.\u001b[39mwraps(func)\n\u001b[0;32m   1410\u001b[0m \u001b[39mdef\u001b[39;00m \u001b[39minner\u001b[39m(ax, \u001b[39m*\u001b[39margs, data\u001b[39m=\u001b[39m\u001b[39mNone\u001b[39;00m, \u001b[39m*\u001b[39m\u001b[39m*\u001b[39mkwargs):\n\u001b[0;32m   1411\u001b[0m     \u001b[39mif\u001b[39;00m data \u001b[39mis\u001b[39;00m \u001b[39mNone\u001b[39;00m:\n\u001b[1;32m-> 1412\u001b[0m         \u001b[39mreturn\u001b[39;00m func(ax, \u001b[39m*\u001b[39;49m\u001b[39mmap\u001b[39;49m(sanitize_sequence, args), \u001b[39m*\u001b[39;49m\u001b[39m*\u001b[39;49mkwargs)\n\u001b[0;32m   1414\u001b[0m     bound \u001b[39m=\u001b[39m new_sig\u001b[39m.\u001b[39mbind(ax, \u001b[39m*\u001b[39margs, \u001b[39m*\u001b[39m\u001b[39m*\u001b[39mkwargs)\n\u001b[0;32m   1415\u001b[0m     auto_label \u001b[39m=\u001b[39m (bound\u001b[39m.\u001b[39marguments\u001b[39m.\u001b[39mget(label_namer)\n\u001b[0;32m   1416\u001b[0m                   \u001b[39mor\u001b[39;00m bound\u001b[39m.\u001b[39mkwargs\u001b[39m.\u001b[39mget(label_namer))\n",
      "File \u001b[1;32mc:\\Users\\Pier\\AppData\\Local\\Programs\\Python\\Python38\\lib\\site-packages\\matplotlib\\axes\\_axes.py:6548\u001b[0m, in \u001b[0;36mAxes.hist\u001b[1;34m(self, x, bins, range, density, weights, cumulative, bottom, histtype, align, orientation, rwidth, log, color, label, stacked, **kwargs)\u001b[0m\n\u001b[0;32m   6545\u001b[0m     stacked \u001b[39m=\u001b[39m \u001b[39mTrue\u001b[39;00m\n\u001b[0;32m   6547\u001b[0m \u001b[39m# Massage 'x' for processing.\u001b[39;00m\n\u001b[1;32m-> 6548\u001b[0m x \u001b[39m=\u001b[39m cbook\u001b[39m.\u001b[39;49m_reshape_2D(x, \u001b[39m'\u001b[39;49m\u001b[39mx\u001b[39;49m\u001b[39m'\u001b[39;49m)\n\u001b[0;32m   6549\u001b[0m nx \u001b[39m=\u001b[39m \u001b[39mlen\u001b[39m(x)  \u001b[39m# number of datasets\u001b[39;00m\n\u001b[0;32m   6551\u001b[0m \u001b[39m# Process unit information.  _process_unit_info sets the unit and\u001b[39;00m\n\u001b[0;32m   6552\u001b[0m \u001b[39m# converts the first dataset; then we convert each following dataset\u001b[39;00m\n\u001b[0;32m   6553\u001b[0m \u001b[39m# one at a time.\u001b[39;00m\n",
      "File \u001b[1;32mc:\\Users\\Pier\\AppData\\Local\\Programs\\Python\\Python38\\lib\\site-packages\\matplotlib\\cbook\\__init__.py:1361\u001b[0m, in \u001b[0;36m_reshape_2D\u001b[1;34m(X, name)\u001b[0m\n\u001b[0;32m   1359\u001b[0m     \u001b[39mif\u001b[39;00m nd \u001b[39m>\u001b[39m \u001b[39m1\u001b[39m:\n\u001b[0;32m   1360\u001b[0m         \u001b[39mraise\u001b[39;00m \u001b[39mValueError\u001b[39;00m(\u001b[39mf\u001b[39m\u001b[39m'\u001b[39m\u001b[39m{\u001b[39;00mname\u001b[39m}\u001b[39;00m\u001b[39m must have 2 or fewer dimensions\u001b[39m\u001b[39m'\u001b[39m)\n\u001b[1;32m-> 1361\u001b[0m     result\u001b[39m.\u001b[39;49mappend(xi\u001b[39m.\u001b[39;49mreshape(\u001b[39m-\u001b[39;49m\u001b[39m1\u001b[39;49m))\n\u001b[0;32m   1363\u001b[0m \u001b[39mif\u001b[39;00m is_1d:\n\u001b[0;32m   1364\u001b[0m     \u001b[39m# 1D array of scalars: directly return it.\u001b[39;00m\n\u001b[0;32m   1365\u001b[0m     \u001b[39mreturn\u001b[39;00m [np\u001b[39m.\u001b[39mreshape(result, \u001b[39m-\u001b[39m\u001b[39m1\u001b[39m)]\n",
      "\u001b[1;31mKeyboardInterrupt\u001b[0m: "
     ]
    }
   ],
   "source": [
    "plt.hist(tt,bins=10000,log=True)\n",
    "plt.show()"
   ]
  },
  {
   "cell_type": "code",
   "execution_count": 13,
   "metadata": {},
   "outputs": [],
   "source": [
    "plt.hist(tt,bins=256,log=True)\n",
    "plt.show()"
   ]
  },
  {
   "cell_type": "code",
   "execution_count": 15,
   "metadata": {},
   "outputs": [
    {
     "data": {
      "text/plain": [
       "0.12122609411463711"
      ]
     },
     "execution_count": 15,
     "metadata": {},
     "output_type": "execute_result"
    }
   ],
   "source": [
    "np.percentile(tt,99.95)"
   ]
  },
  {
   "cell_type": "code",
   "execution_count": 29,
   "metadata": {},
   "outputs": [
    {
     "name": "stdout",
     "output_type": "stream",
     "text": [
      "43\n"
     ]
    }
   ],
   "source": [
    "cont = 0\n",
    "for n in maxs: \n",
    "    if n > 12000: cont+=1\n",
    "print(cont)"
   ]
  },
  {
   "cell_type": "code",
   "execution_count": 26,
   "metadata": {},
   "outputs": [
    {
     "data": {
      "text/plain": [
       "2149.499870805131"
      ]
     },
     "execution_count": 26,
     "metadata": {},
     "output_type": "execute_result"
    }
   ],
   "source": [
    "np.mean(maxs)"
   ]
  },
  {
   "cell_type": "code",
   "execution_count": 5,
   "metadata": {},
   "outputs": [
    {
     "data": {
      "image/png": "[encoded data removed]",
      "text/plain": [
       "<Figure size 640x480 with 1 Axes>"
      ]
     },
     "metadata": {},
     "output_type": "display_data"
    }
   ],
   "source": [
    "plt.hist(maxs,bins=100)\n",
    "plt.xlabel(\"máximos por slice\")\n",
    "plt.ylabel(\"#\")\n",
    "plt.show()"
   ]
  },
  {
   "cell_type": "code",
   "execution_count": 36,
   "metadata": {},
   "outputs": [
    {
     "name": "stdout",
     "output_type": "stream",
     "text": [
      "147.58304673764198\n"
     ]
    }
   ],
   "source": [
    "fp = r\"C:\\Users\\Pier\\Desktop\\PFI_main\\ds_mezcla_segmentacion integra\\bias_corrected_sec\\sujetos\"\n",
    "allfiles = os.listdir(fp)\n",
    "mri_max = 0\n",
    "mri_min = 0\n",
    "means = []\n",
    "variances = []\n",
    "for file in allfiles:\n",
    "    if ((\"sujeto\" in file) and (checknottest(file))):\n",
    "        x = nib.load(os.path.join(fp,file))\n",
    "        x = x.get_fdata()\n",
    "        for slice in range(np.size(x,2)):\n",
    "            var = np.std((x[63:319,63:319,slice]))\n",
    "            variances.append(var)\n",
    "\n",
    "desviacion = np.std(variances)\n",
    "print(desviacion)"
   ]
  },
  {
   "cell_type": "code",
   "execution_count": null,
   "metadata": {},
   "outputs": [],
   "source": [
    "fp = r\"C:\\Users\\Pier\\Desktop\\PFI_main\\DS_VOLUMEN\\main\\train_data\\sujetos\"\n",
    "#fp = r\"C:\\Users\\Pier\\Desktop\\PFI_main\\DS_VOLUMEN\\main\\train_data\\mascaras\"\n",
    "allfiles = os.listdir(fp)\n",
    "cont = 0\n",
    "cont2 = 0\n",
    "\n",
    "for file in sorted(allfiles):\n",
    "    x = nib.load(os.path.join(fp,file))\n",
    "    y = x.get_fdata()\n",
    "    if \"sujeto\" in file:\n",
    "        for slices in range(np.size(y,2)):\n",
    "            cont+=1\n",
    "            img = (y[63:319,63:319,slices]/2116.231308269967)*255 \n",
    "            cv2.imwrite(fp+\"\\img\\img_sujeto_\"+str(cont).zfill(4)+\".png\", img)\n",
    "    else:\n",
    "        for slices in range(np.size(y,2)):\n",
    "            cont2+=1\n",
    "            img = y[63:319,63:319,slices]*255\n",
    "            cv2.imwrite(fp+\"\\img\\img_segmentacion_\"+str(cont2).zfill(4)+\".png\", img)"
   ]
  }
 ],
 "metadata": {
  "kernelspec": {
   "display_name": "Python 3.8.0 64-bit",
   "language": "python",
   "name": "python3"
  },
  "language_info": {
   "codemirror_mode": {
    "name": "ipython",
    "version": 3
   },
   "file_extension": ".py",
   "mimetype": "text/x-python",
   "name": "python",
   "nbconvert_exporter": "python",
   "pygments_lexer": "ipython3",
   "version": "3.8.0"
  },
  "orig_nbformat": 4,
  "vscode": {
   "interpreter": {
    "hash": "a8e68cbbe928a735cbef36e0c504d1e4907a06cf8776305a5ea24ea01ddf5907"
   }
  }
 },
 "nbformat": 4,
 "nbformat_minor": 2
}
